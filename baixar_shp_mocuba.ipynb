{
  "nbformat": 4,
  "nbformat_minor": 0,
  "metadata": {
    "colab": {
      "provenance": [],
      "authorship_tag": "ABX9TyNiY099EedC53JDjQ2/mRAU",
      "include_colab_link": true
    },
    "kernelspec": {
      "name": "python3",
      "display_name": "Python 3"
    },
    "language_info": {
      "name": "python"
    }
  },
  "cells": [
    {
      "cell_type": "markdown",
      "metadata": {
        "id": "view-in-github",
        "colab_type": "text"
      },
      "source": [
        "<a href=\"https://colab.research.google.com/github/fernandogomesfg/baixar-shp-mocuba/blob/main/baixar_shp_mocuba.ipynb\" target=\"_parent\"><img src=\"https://colab.research.google.com/assets/colab-badge.svg\" alt=\"Open In Colab\"/></a>"
      ]
    },
    {
      "cell_type": "code",
      "source": [
        "!pip install osmnx"
      ],
      "metadata": {
        "id": "ULSNoz_dS7NZ"
      },
      "execution_count": null,
      "outputs": []
    },
    {
      "cell_type": "code",
      "source": [
        "import osmnx as ox"
      ],
      "metadata": {
        "id": "gRmy24FHTR6h"
      },
      "execution_count": 1,
      "outputs": []
    },
    {
      "cell_type": "code",
      "source": [
        "local = \"Mocuba\"\n",
        "local"
      ],
      "metadata": {
        "id": "jBPyIsiqTbMB"
      },
      "execution_count": null,
      "outputs": []
    },
    {
      "cell_type": "code",
      "source": [
        "p = ox.geocode_to_gdf(local)\n",
        "p.boundary.plot()"
      ],
      "metadata": {
        "id": "uGcIvVXkTh8i"
      },
      "execution_count": null,
      "outputs": []
    },
    {
      "cell_type": "code",
      "source": [
        "build = ox.geometries_from_place(local, tags = {\"building\": True})\n",
        "build.plot()"
      ],
      "metadata": {
        "id": "CF54y_yHT1sZ"
      },
      "execution_count": null,
      "outputs": []
    },
    {
      "cell_type": "code",
      "source": [
        "raio = 10000\n",
        "build2 = ox.geometries_from_point((-16.839087556099102, 36.98563117116291), dist = raio, tags = {\"building\": True})\n",
        "build2.plot()"
      ],
      "metadata": {
        "id": "uSlSwD3WURHC"
      },
      "execution_count": null,
      "outputs": []
    },
    {
      "cell_type": "code",
      "source": [
        "!pip instal geopandas"
      ],
      "metadata": {
        "id": "yws7U90KWExb"
      },
      "execution_count": null,
      "outputs": []
    },
    {
      "cell_type": "code",
      "source": [
        "import geopandas as gpd"
      ],
      "metadata": {
        "id": "k7xuRH8BW7PA"
      },
      "execution_count": 6,
      "outputs": []
    },
    {
      "cell_type": "code",
      "source": [
        "polygon = gpd.read_file(\"/content/POLYGON.shp\")\n",
        "polygon.plot()"
      ],
      "metadata": {
        "id": "FcamBUb2W_nG"
      },
      "execution_count": null,
      "outputs": []
    },
    {
      "cell_type": "code",
      "source": [
        "polygon.columns"
      ],
      "metadata": {
        "id": "Br2ALHxyXurh"
      },
      "execution_count": null,
      "outputs": []
    },
    {
      "cell_type": "code",
      "source": [
        "new_poly = polygon[\"geometry\"].iloc[0]\n",
        "new_poly"
      ],
      "metadata": {
        "id": "Hlm4_PH5X0tm"
      },
      "execution_count": null,
      "outputs": []
    },
    {
      "cell_type": "code",
      "source": [
        "build3 = ox.geometries_from_polygon(new_poly, tags = {\"building\": True})\n",
        "build3.plot()"
      ],
      "metadata": {
        "id": "52fefB-_YCFC"
      },
      "execution_count": null,
      "outputs": []
    },
    {
      "cell_type": "code",
      "source": [
        "build3.columns"
      ],
      "metadata": {
        "id": "so__nDA4Yc_5"
      },
      "execution_count": null,
      "outputs": []
    },
    {
      "cell_type": "code",
      "source": [
        "new_build = build3[[\"building\", \"name\", \"geometry\"]]\n",
        "new_build.columns"
      ],
      "metadata": {
        "id": "nrxcXVUtYkKP"
      },
      "execution_count": null,
      "outputs": []
    },
    {
      "cell_type": "code",
      "source": [
        "new_build"
      ],
      "metadata": {
        "id": "pMM3K-eCY34P"
      },
      "execution_count": null,
      "outputs": []
    },
    {
      "cell_type": "code",
      "source": [
        "import osmnx as ox\n",
        "import geopandas as gpd\n",
        "\n",
        "local = \"Mocuba\"\n",
        "# local\n",
        "\n",
        "p = ox.geocode_to_gdf(local)\n",
        "# p.boundary.plot()\n",
        "\n",
        "build = ox.geometries_from_place(local, tags = {\"building\": True})\n",
        "# build.plot()\n",
        "\n",
        "raio = 4000\n",
        "build2 = ox.geometries_from_point((-16.839087556099102, 36.98563117116291), dist = raio, tags = {\"building\": True})\n",
        "# build2.plot()\n",
        "\n",
        "polygon = gpd.read_file(\"/content/POLYGON.shp\")\n",
        "# polygon.plot()\n",
        "\n",
        "# polygon.columns\n",
        "\n",
        "new_poly = polygon[\"geometry\"].iloc[0]\n",
        "# new_poly\n",
        "\n",
        "build3 = ox.geometries_from_polygon(new_poly, tags = {\"building\": True})\n",
        "# build3.plot()\n",
        "\n",
        "# build3.columns\n",
        "\n",
        "new_build = build3[[\"building\", \"name\", \"geometry\"]]\n",
        "# new_build.columns\n",
        "\n",
        "new_build"
      ],
      "metadata": {
        "colab": {
          "base_uri": "https://localhost:8080/",
          "height": 1215
        },
        "id": "wLz32xth7CJ8",
        "outputId": "267185fc-8fd5-466e-8c1c-a84e43085d98"
      },
      "execution_count": 59,
      "outputs": [
        {
          "output_type": "stream",
          "name": "stderr",
          "text": [
            "<ipython-input-59-9e0416bbb8c2>:10: UserWarning: The `geometries` module and `geometries_from_X` functions have been renamed the `features` module and `features_from_X` functions. Use these instead. The `geometries` module and function names are deprecated and will be removed in a future release.\n",
            "  build = ox.geometries_from_place(local, tags = {\"building\": True})\n",
            "<ipython-input-59-9e0416bbb8c2>:14: UserWarning: The `geometries` module and `geometries_from_X` functions have been renamed the `features` module and `features_from_X` functions. Use these instead. The `geometries` module and function names are deprecated and will be removed in a future release.\n",
            "  build2 = ox.geometries_from_point((-16.839087556099102, 36.98563117116291), dist = raio, tags = {\"building\": True})\n",
            "<ipython-input-59-9e0416bbb8c2>:25: UserWarning: The `geometries` module and `geometries_from_X` functions have been renamed the `features` module and `features_from_X` functions. Use these instead. The `geometries` module and function names are deprecated and will be removed in a future release.\n",
            "  build3 = ox.geometries_from_polygon(new_poly, tags = {\"building\": True})\n"
          ]
        },
        {
          "output_type": "execute_result",
          "data": {
            "text/plain": [
              "                       building name  \\\n",
              "element_type osmid                     \n",
              "way          363539971      yes  NaN   \n",
              "             363539972      yes  NaN   \n",
              "             363539973      yes  NaN   \n",
              "             363539974      yes  NaN   \n",
              "             363539975      yes  NaN   \n",
              "...                         ...  ...   \n",
              "             417601926    house  NaN   \n",
              "             417603004    house  NaN   \n",
              "             690291432      yes  NaN   \n",
              "             690503711      yes  NaN   \n",
              "relation     5644288        yes  NaN   \n",
              "\n",
              "                                                                 geometry  \n",
              "element_type osmid                                                         \n",
              "way          363539971  POLYGON ((37.00150 -16.84931, 37.00155 -16.849...  \n",
              "             363539972  POLYGON ((37.00185 -16.84714, 37.00191 -16.847...  \n",
              "             363539973  POLYGON ((36.99986 -16.84782, 36.99994 -16.847...  \n",
              "             363539974  POLYGON ((36.99875 -16.84891, 36.99879 -16.848...  \n",
              "             363539975  POLYGON ((37.00080 -16.85114, 37.00090 -16.851...  \n",
              "...                                                                   ...  \n",
              "             417601926  POLYGON ((36.98409 -16.84737, 36.98403 -16.847...  \n",
              "             417603004  POLYGON ((36.98245 -16.84821, 36.98243 -16.848...  \n",
              "             690291432  POLYGON ((36.98336 -16.85009, 36.98343 -16.850...  \n",
              "             690503711  POLYGON ((37.00958 -16.88071, 37.00966 -16.880...  \n",
              "relation     5644288    POLYGON ((36.99782 -16.84747, 36.99793 -16.847...  \n",
              "\n",
              "[4615 rows x 3 columns]"
            ],
            "text/html": [
              "\n",
              "\n",
              "  <div id=\"df-3f82d403-8bce-46aa-ae77-f1008754b2cf\">\n",
              "    <div class=\"colab-df-container\">\n",
              "      <div>\n",
              "<style scoped>\n",
              "    .dataframe tbody tr th:only-of-type {\n",
              "        vertical-align: middle;\n",
              "    }\n",
              "\n",
              "    .dataframe tbody tr th {\n",
              "        vertical-align: top;\n",
              "    }\n",
              "\n",
              "    .dataframe thead th {\n",
              "        text-align: right;\n",
              "    }\n",
              "</style>\n",
              "<table border=\"1\" class=\"dataframe\">\n",
              "  <thead>\n",
              "    <tr style=\"text-align: right;\">\n",
              "      <th></th>\n",
              "      <th></th>\n",
              "      <th>building</th>\n",
              "      <th>name</th>\n",
              "      <th>geometry</th>\n",
              "    </tr>\n",
              "    <tr>\n",
              "      <th>element_type</th>\n",
              "      <th>osmid</th>\n",
              "      <th></th>\n",
              "      <th></th>\n",
              "      <th></th>\n",
              "    </tr>\n",
              "  </thead>\n",
              "  <tbody>\n",
              "    <tr>\n",
              "      <th rowspan=\"10\" valign=\"top\">way</th>\n",
              "      <th>363539971</th>\n",
              "      <td>yes</td>\n",
              "      <td>NaN</td>\n",
              "      <td>POLYGON ((37.00150 -16.84931, 37.00155 -16.849...</td>\n",
              "    </tr>\n",
              "    <tr>\n",
              "      <th>363539972</th>\n",
              "      <td>yes</td>\n",
              "      <td>NaN</td>\n",
              "      <td>POLYGON ((37.00185 -16.84714, 37.00191 -16.847...</td>\n",
              "    </tr>\n",
              "    <tr>\n",
              "      <th>363539973</th>\n",
              "      <td>yes</td>\n",
              "      <td>NaN</td>\n",
              "      <td>POLYGON ((36.99986 -16.84782, 36.99994 -16.847...</td>\n",
              "    </tr>\n",
              "    <tr>\n",
              "      <th>363539974</th>\n",
              "      <td>yes</td>\n",
              "      <td>NaN</td>\n",
              "      <td>POLYGON ((36.99875 -16.84891, 36.99879 -16.848...</td>\n",
              "    </tr>\n",
              "    <tr>\n",
              "      <th>363539975</th>\n",
              "      <td>yes</td>\n",
              "      <td>NaN</td>\n",
              "      <td>POLYGON ((37.00080 -16.85114, 37.00090 -16.851...</td>\n",
              "    </tr>\n",
              "    <tr>\n",
              "      <th>...</th>\n",
              "      <td>...</td>\n",
              "      <td>...</td>\n",
              "      <td>...</td>\n",
              "    </tr>\n",
              "    <tr>\n",
              "      <th>417601926</th>\n",
              "      <td>house</td>\n",
              "      <td>NaN</td>\n",
              "      <td>POLYGON ((36.98409 -16.84737, 36.98403 -16.847...</td>\n",
              "    </tr>\n",
              "    <tr>\n",
              "      <th>417603004</th>\n",
              "      <td>house</td>\n",
              "      <td>NaN</td>\n",
              "      <td>POLYGON ((36.98245 -16.84821, 36.98243 -16.848...</td>\n",
              "    </tr>\n",
              "    <tr>\n",
              "      <th>690291432</th>\n",
              "      <td>yes</td>\n",
              "      <td>NaN</td>\n",
              "      <td>POLYGON ((36.98336 -16.85009, 36.98343 -16.850...</td>\n",
              "    </tr>\n",
              "    <tr>\n",
              "      <th>690503711</th>\n",
              "      <td>yes</td>\n",
              "      <td>NaN</td>\n",
              "      <td>POLYGON ((37.00958 -16.88071, 37.00966 -16.880...</td>\n",
              "    </tr>\n",
              "    <tr>\n",
              "      <th>relation</th>\n",
              "      <th>5644288</th>\n",
              "      <td>yes</td>\n",
              "      <td>NaN</td>\n",
              "      <td>POLYGON ((36.99782 -16.84747, 36.99793 -16.847...</td>\n",
              "    </tr>\n",
              "  </tbody>\n",
              "</table>\n",
              "<p>4615 rows × 3 columns</p>\n",
              "</div>\n",
              "      <button class=\"colab-df-convert\" onclick=\"convertToInteractive('df-3f82d403-8bce-46aa-ae77-f1008754b2cf')\"\n",
              "              title=\"Convert this dataframe to an interactive table.\"\n",
              "              style=\"display:none;\">\n",
              "\n",
              "  <svg xmlns=\"http://www.w3.org/2000/svg\" height=\"24px\"viewBox=\"0 0 24 24\"\n",
              "       width=\"24px\">\n",
              "    <path d=\"M0 0h24v24H0V0z\" fill=\"none\"/>\n",
              "    <path d=\"M18.56 5.44l.94 2.06.94-2.06 2.06-.94-2.06-.94-.94-2.06-.94 2.06-2.06.94zm-11 1L8.5 8.5l.94-2.06 2.06-.94-2.06-.94L8.5 2.5l-.94 2.06-2.06.94zm10 10l.94 2.06.94-2.06 2.06-.94-2.06-.94-.94-2.06-.94 2.06-2.06.94z\"/><path d=\"M17.41 7.96l-1.37-1.37c-.4-.4-.92-.59-1.43-.59-.52 0-1.04.2-1.43.59L10.3 9.45l-7.72 7.72c-.78.78-.78 2.05 0 2.83L4 21.41c.39.39.9.59 1.41.59.51 0 1.02-.2 1.41-.59l7.78-7.78 2.81-2.81c.8-.78.8-2.07 0-2.86zM5.41 20L4 18.59l7.72-7.72 1.47 1.35L5.41 20z\"/>\n",
              "  </svg>\n",
              "      </button>\n",
              "\n",
              "\n",
              "\n",
              "    <div id=\"df-b028ad13-4837-412d-99c2-a5eb8784957a\">\n",
              "      <button class=\"colab-df-quickchart\" onclick=\"quickchart('df-b028ad13-4837-412d-99c2-a5eb8784957a')\"\n",
              "              title=\"Suggest charts.\"\n",
              "              style=\"display:none;\">\n",
              "\n",
              "<svg xmlns=\"http://www.w3.org/2000/svg\" height=\"24px\"viewBox=\"0 0 24 24\"\n",
              "     width=\"24px\">\n",
              "    <g>\n",
              "        <path d=\"M19 3H5c-1.1 0-2 .9-2 2v14c0 1.1.9 2 2 2h14c1.1 0 2-.9 2-2V5c0-1.1-.9-2-2-2zM9 17H7v-7h2v7zm4 0h-2V7h2v10zm4 0h-2v-4h2v4z\"/>\n",
              "    </g>\n",
              "</svg>\n",
              "      </button>\n",
              "    </div>\n",
              "\n",
              "<style>\n",
              "  .colab-df-quickchart {\n",
              "    background-color: #E8F0FE;\n",
              "    border: none;\n",
              "    border-radius: 50%;\n",
              "    cursor: pointer;\n",
              "    display: none;\n",
              "    fill: #1967D2;\n",
              "    height: 32px;\n",
              "    padding: 0 0 0 0;\n",
              "    width: 32px;\n",
              "  }\n",
              "\n",
              "  .colab-df-quickchart:hover {\n",
              "    background-color: #E2EBFA;\n",
              "    box-shadow: 0px 1px 2px rgba(60, 64, 67, 0.3), 0px 1px 3px 1px rgba(60, 64, 67, 0.15);\n",
              "    fill: #174EA6;\n",
              "  }\n",
              "\n",
              "  [theme=dark] .colab-df-quickchart {\n",
              "    background-color: #3B4455;\n",
              "    fill: #D2E3FC;\n",
              "  }\n",
              "\n",
              "  [theme=dark] .colab-df-quickchart:hover {\n",
              "    background-color: #434B5C;\n",
              "    box-shadow: 0px 1px 3px 1px rgba(0, 0, 0, 0.15);\n",
              "    filter: drop-shadow(0px 1px 2px rgba(0, 0, 0, 0.3));\n",
              "    fill: #FFFFFF;\n",
              "  }\n",
              "</style>\n",
              "\n",
              "    <script>\n",
              "      async function quickchart(key) {\n",
              "        const containerElement = document.querySelector('#' + key);\n",
              "        const charts = await google.colab.kernel.invokeFunction(\n",
              "            'suggestCharts', [key], {});\n",
              "      }\n",
              "    </script>\n",
              "\n",
              "      <script>\n",
              "\n",
              "function displayQuickchartButton(domScope) {\n",
              "  let quickchartButtonEl =\n",
              "    domScope.querySelector('#df-b028ad13-4837-412d-99c2-a5eb8784957a button.colab-df-quickchart');\n",
              "  quickchartButtonEl.style.display =\n",
              "    google.colab.kernel.accessAllowed ? 'block' : 'none';\n",
              "}\n",
              "\n",
              "        displayQuickchartButton(document);\n",
              "      </script>\n",
              "      <style>\n",
              "    .colab-df-container {\n",
              "      display:flex;\n",
              "      flex-wrap:wrap;\n",
              "      gap: 12px;\n",
              "    }\n",
              "\n",
              "    .colab-df-convert {\n",
              "      background-color: #E8F0FE;\n",
              "      border: none;\n",
              "      border-radius: 50%;\n",
              "      cursor: pointer;\n",
              "      display: none;\n",
              "      fill: #1967D2;\n",
              "      height: 32px;\n",
              "      padding: 0 0 0 0;\n",
              "      width: 32px;\n",
              "    }\n",
              "\n",
              "    .colab-df-convert:hover {\n",
              "      background-color: #E2EBFA;\n",
              "      box-shadow: 0px 1px 2px rgba(60, 64, 67, 0.3), 0px 1px 3px 1px rgba(60, 64, 67, 0.15);\n",
              "      fill: #174EA6;\n",
              "    }\n",
              "\n",
              "    [theme=dark] .colab-df-convert {\n",
              "      background-color: #3B4455;\n",
              "      fill: #D2E3FC;\n",
              "    }\n",
              "\n",
              "    [theme=dark] .colab-df-convert:hover {\n",
              "      background-color: #434B5C;\n",
              "      box-shadow: 0px 1px 3px 1px rgba(0, 0, 0, 0.15);\n",
              "      filter: drop-shadow(0px 1px 2px rgba(0, 0, 0, 0.3));\n",
              "      fill: #FFFFFF;\n",
              "    }\n",
              "  </style>\n",
              "\n",
              "      <script>\n",
              "        const buttonEl =\n",
              "          document.querySelector('#df-3f82d403-8bce-46aa-ae77-f1008754b2cf button.colab-df-convert');\n",
              "        buttonEl.style.display =\n",
              "          google.colab.kernel.accessAllowed ? 'block' : 'none';\n",
              "\n",
              "        async function convertToInteractive(key) {\n",
              "          const element = document.querySelector('#df-3f82d403-8bce-46aa-ae77-f1008754b2cf');\n",
              "          const dataTable =\n",
              "            await google.colab.kernel.invokeFunction('convertToInteractive',\n",
              "                                                     [key], {});\n",
              "          if (!dataTable) return;\n",
              "\n",
              "          const docLinkHtml = 'Like what you see? Visit the ' +\n",
              "            '<a target=\"_blank\" href=https://colab.research.google.com/notebooks/data_table.ipynb>data table notebook</a>'\n",
              "            + ' to learn more about interactive tables.';\n",
              "          element.innerHTML = '';\n",
              "          dataTable['output_type'] = 'display_data';\n",
              "          await google.colab.output.renderOutput(dataTable, element);\n",
              "          const docLink = document.createElement('div');\n",
              "          docLink.innerHTML = docLinkHtml;\n",
              "          element.appendChild(docLink);\n",
              "        }\n",
              "      </script>\n",
              "    </div>\n",
              "  </div>\n"
            ]
          },
          "metadata": {},
          "execution_count": 59
        }
      ]
    },
    {
      "cell_type": "code",
      "source": [],
      "metadata": {
        "id": "HicgMixRXAp_"
      },
      "execution_count": 59,
      "outputs": []
    }
  ]
}